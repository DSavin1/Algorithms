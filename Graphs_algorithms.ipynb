{
 "cells": [
  {
   "cell_type": "code",
   "execution_count": 1,
   "metadata": {
    "ExecuteTime": {
     "end_time": "2022-12-11T17:06:16.033037Z",
     "start_time": "2022-12-11T17:06:16.018974Z"
    }
   },
   "outputs": [
    {
     "name": "stdout",
     "output_type": "stream",
     "text": [
      "({'a': 'st', 'c': 'st', 'b': 'a', 'd': 'a', 'fin': 'd'}, {'a': 5, 'c': 2, 'b': 9, 'd': 7, 'fin': 8}, ['c', 'a', 'd', 'fin', 'b'])\n"
     ]
    }
   ],
   "source": [
    "# Dijkstra's algorithm \n",
    "graph = {}\n",
    "graph['st'] = {}\n",
    "graph['st']['a'] = 5\n",
    "graph['st']['c'] = 2\n",
    "graph['a'],graph['c'],graph['b'],graph['d'],graph['fin'] = {},{},{},{},{}\n",
    "graph['a']['b'] = 4\n",
    "graph['a']['d'] = 2\n",
    "graph['c']['d'] = 7\n",
    "graph['c']['a'] = 8\n",
    "graph['b']['fin'] = 3\n",
    "graph['b']['d'] = 6\n",
    "graph['d']['fin'] = 1\n",
    "\n",
    "costs = {}\n",
    "costs['a'] = 5\n",
    "costs['c'] = 2\n",
    "costs['b'],costs['d'],costs['fin'] = float('inf'), float('inf'), float('inf')\n",
    "\n",
    "parents = {}\n",
    "parents['a'] = 'st'\n",
    "parents['c'] = 'st'\n",
    "parents['b'], parents['d'], parents['fin'] = None,None,None\n",
    "\n",
    "def f_l_n(costs: dict, processed: list):\n",
    "    l_n = None\n",
    "    l_c = float('inf')\n",
    "    for n in costs:\n",
    "        cost = costs[n]\n",
    "        if (cost < l_c and n not in processed):\n",
    "            l_c = cost\n",
    "            l_n = n\n",
    "    return l_n\n",
    "processed = []   \n",
    "def ad(graph: dict, costs: dict, parents: dict):\n",
    "    \n",
    "    node = f_l_n(costs,processed)\n",
    "    while node is not None:\n",
    "#         print(node)\n",
    "        cost = costs[node]\n",
    "        neighbors = graph[node]\n",
    "        for n in neighbors.keys():\n",
    "            n_cost = neighbors[n] + cost\n",
    "            if (costs[n] > n_cost):\n",
    "                costs[n] = n_cost\n",
    "                parents[n] = node\n",
    "        processed.append(node)\n",
    "        node = f_l_n(costs,processed)\n",
    "#         print(node)\n",
    "    return (parents, costs, processed)\n",
    "\n",
    "print(ad(graph,costs,parents))"
   ]
  },
  {
   "cell_type": "code",
   "execution_count": 2,
   "metadata": {
    "ExecuteTime": {
     "end_time": "2022-12-11T17:07:23.290633Z",
     "start_time": "2022-12-11T17:07:23.278179Z"
    }
   },
   "outputs": [
    {
     "name": "stdout",
     "output_type": "stream",
     "text": [
      "2\n",
      "3\n",
      "4\n",
      "5\n",
      "{'2', '4', '5', '3'}\n"
     ]
    }
   ],
   "source": [
    "# Greedy algorithm for set cover problem\n",
    "st_n = set(['a','b','c','d','f','e','g','k'])\n",
    "stations = {}\n",
    "stations['1'] = ['a','c']\n",
    "stations['2'] = ['a','b','f','e']\n",
    "stations['3'] = ['c','d','f']\n",
    "stations['4'] = ['b','k']\n",
    "stations['5'] = ['g']\n",
    "\n",
    "\n",
    "f_stations = set()\n",
    "\n",
    "\n",
    "while st_n:\n",
    "    states_covered = set()\n",
    "    best_station = None\n",
    "    for station,states in stations.items():\n",
    "        covered = st_n & set(states)\n",
    "        if (len(covered) > len(states_covered)):\n",
    "            best_station = station\n",
    "            states_covered = covered\n",
    "    st_n -= states_covered\n",
    "    f_stations.add(best_station)\n",
    "    print(best_station)\n",
    "print(f_stations)"
   ]
  },
  {
   "cell_type": "code",
   "execution_count": 1,
   "metadata": {
    "ExecuteTime": {
     "end_time": "2022-12-11T17:11:20.521091Z",
     "start_time": "2022-12-11T17:11:20.514173Z"
    }
   },
   "outputs": [
    {
     "name": "stdout",
     "output_type": "stream",
     "text": [
      "Found!\n",
      "0\n"
     ]
    }
   ],
   "source": [
    "# Checking whether the way from point to point exists or not\n",
    "from collections import deque\n",
    "graph = {}\n",
    "graph['MSK'] = ['SPB','KZN','NSK']\n",
    "graph['SPB'] = ['HLSK','MRMNSK']\n",
    "graph['KZN'] = []\n",
    "graph['NSK'] = ['VDVST']\n",
    "graph['VDVST'] = []\n",
    "graph['MRMNSK'] = []\n",
    "\n",
    "def ch(a: str):\n",
    "    if (a == 'HLSK'):\n",
    "        return 1\n",
    "\n",
    "def fp(a: str):\n",
    "    q = deque()\n",
    "    q += graph['MSK']\n",
    "    s = []\n",
    "    while q:\n",
    "        city = q.popleft()\n",
    "        if not city in s:\n",
    "            if (ch(city) == 1):\n",
    "                print('Found!')\n",
    "                return 0\n",
    "            else: \n",
    "                s.append(city)\n",
    "                q += graph[city]\n",
    "    print ('NO WAY!')\n",
    "    return 0\n",
    "print(fp('HLSK'))"
   ]
  },
  {
   "cell_type": "code",
   "execution_count": null,
   "metadata": {},
   "outputs": [],
   "source": []
  }
 ],
 "metadata": {
  "kernelspec": {
   "display_name": "Python 3",
   "language": "python",
   "name": "python3"
  },
  "language_info": {
   "codemirror_mode": {
    "name": "ipython",
    "version": 3
   },
   "file_extension": ".py",
   "mimetype": "text/x-python",
   "name": "python",
   "nbconvert_exporter": "python",
   "pygments_lexer": "ipython3",
   "version": "3.9.0"
  }
 },
 "nbformat": 4,
 "nbformat_minor": 4
}
