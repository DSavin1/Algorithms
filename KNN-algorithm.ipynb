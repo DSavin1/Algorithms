{
 "cells": [
  {
   "cell_type": "code",
   "execution_count": 2,
   "metadata": {
    "ExecuteTime": {
     "end_time": "2022-12-11T17:03:30.592858Z",
     "start_time": "2022-12-11T17:03:30.588904Z"
    }
   },
   "outputs": [],
   "source": [
    "import random\n",
    "import math\n",
    "import pylab as pl\n",
    "import numpy as np\n",
    "from matplotlib.colors import ListedColormap\n",
    "import matplotlib.pyplot as plt"
   ]
  },
  {
   "cell_type": "code",
   "execution_count": 6,
   "metadata": {
    "ExecuteTime": {
     "end_time": "2022-12-11T17:04:23.772766Z",
     "start_time": "2022-12-11T17:04:23.621856Z"
    }
   },
   "outputs": [
    {
     "data": {
      "text/plain": [
       "<matplotlib.collections.PathCollection at 0x1186abd60>"
      ]
     },
     "execution_count": 6,
     "metadata": {},
     "output_type": "execute_result"
    },
    {
     "data": {
      "image/png": "[encoded data removed]",
      "text/plain": [
       "<Figure size 432x288 with 1 Axes>"
      ]
     },
     "metadata": {
      "needs_background": "light"
     },
     "output_type": "display_data"
    }
   ],
   "source": [
    "# Knn алгоритм\n",
    "n = 50\n",
    "m = 3\n",
    "clas = np.random.randint(0,m,n)   \n",
    "x_test = []\n",
    "x_data = []\n",
    "for i in range(n):\n",
    "    centerX = random.random()*0.5\n",
    "    centerY = random.random()*0.5\n",
    "    x_data.append([[random.gauss(centerX,0.5),random.gauss(centerY,0.5)],clas[i]])\n",
    "for i in range(15):\n",
    "    x_test.append([random.gauss(centerX,0.5),random.gauss(centerY,0.5)])\n",
    "classColormap  = ListedColormap(['#FF0000', '#00FF00', '#FF0FF0'])\n",
    "plt.figure()\n",
    "plt.scatter([x_data[i][0][0] for i in range(len(x_data))],[x_data[i][0][1] for i in range(len(x_data))], c = [x_data[i][1] for i in range(len(x_data))], cmap = classColormap)\n",
    "\n",
    "def dist(a,b):\n",
    "    return np.sqrt((a[0] - b[0])**2 + (a[1] - b[1])**2)\n",
    "\n",
    "def Klas(x_test, x_data, noc, K):\n",
    "    d = []\n",
    "    f = [0 for i in range(len(x_test))]\n",
    "\n",
    "    \n",
    "    for i in range(len(x_test)):\n",
    "        t = [[dist(x_test[i],x_data[j][0]),x_data[j][1]] for j in range(len(x_data))]\n",
    "        d.append(t)\n",
    "    stat = [[0 for i in range(noc)] for j in range(len(d))]\n",
    "    for i in range(len(d)):\n",
    "        d[i] = sorted(d[i])[:K]\n",
    "\n",
    "    for i in range(len(d)):\n",
    "         for j in range(len(d[i])):\n",
    "            stat[i][d[i][j][1]] += 1\n",
    "    \n",
    "    for i in range(len(stat)):\n",
    "        k = 0\n",
    "        for j in range(len(stat[i])):\n",
    "            if stat[i][j] > k: \n",
    "                k = j\n",
    "        f[i] = k\n",
    "\n",
    "    x_p = [[x_test[i], f[i]] for i in range(len(x_test))]\n",
    "    return x_p\n",
    "        \n",
    "x_p = Klas(x_test,x_data, m, 2)\n",
    "plt.scatter([x_p[i][0][0] for i in range(len(x_p))], [x_p[i][0][1] for i in range(len(x_p))],c = [x_p[i][1] for i in range(len(x_p))], cmap = classColormap, marker = '^')\n",
    " \n",
    "    "
   ]
  },
  {
   "cell_type": "code",
   "execution_count": null,
   "metadata": {},
   "outputs": [],
   "source": []
  }
 ],
 "metadata": {
  "kernelspec": {
   "display_name": "Python 3",
   "language": "python",
   "name": "python3"
  },
  "language_info": {
   "codemirror_mode": {
    "name": "ipython",
    "version": 3
   },
   "file_extension": ".py",
   "mimetype": "text/x-python",
   "name": "python",
   "nbconvert_exporter": "python",
   "pygments_lexer": "ipython3",
   "version": "3.9.0"
  }
 },
 "nbformat": 4,
 "nbformat_minor": 4
}
