{
 "cells": [
  {
   "cell_type": "code",
   "execution_count": 1,
   "metadata": {
    "ExecuteTime": {
     "end_time": "2022-12-11T17:09:37.442045Z",
     "start_time": "2022-12-11T17:09:36.637933Z"
    }
   },
   "outputs": [],
   "source": [
    "import pandas as pd\n",
    "import numpy as np\n",
    "import math\n",
    "\n",
    "import matplotlib.pyplot as plt\n",
    "import copy\n",
    "import warnings\n",
    "warnings.filterwarnings(\"ignore\")\n"
   ]
  },
  {
   "cell_type": "code",
   "execution_count": 3,
   "metadata": {
    "ExecuteTime": {
     "end_time": "2022-12-11T17:09:49.240116Z",
     "start_time": "2022-12-11T17:09:49.233435Z"
    }
   },
   "outputs": [
    {
     "name": "stdout",
     "output_type": "stream",
     "text": [
      "0 4 2\n",
      "1\n"
     ]
    }
   ],
   "source": [
    "# Binary search\n",
    "def bs(a: list, b: int):\n",
    "    l = 0\n",
    "    h = len(a) - 1\n",
    "    m = (l + h) // 2\n",
    "    print(l,h,m)\n",
    "    \n",
    "    if (a[m] == b):\n",
    "        return 1\n",
    "    elif (l < h):\n",
    "        if (a[m] < b):\n",
    "            return bs(a[(m + 1):], b)\n",
    "        elif (a[m] > b): \n",
    "            return bs(a[:(m)], b)\n",
    "    else: \n",
    "        return -1\n",
    "    \n",
    "a = [1,3,5,7,9]\n",
    "b = 5\n",
    "print(bs(a,b))"
   ]
  },
  {
   "cell_type": "code",
   "execution_count": 4,
   "metadata": {
    "ExecuteTime": {
     "end_time": "2022-12-11T17:09:57.778122Z",
     "start_time": "2022-12-11T17:09:57.772359Z"
    }
   },
   "outputs": [
    {
     "name": "stdout",
     "output_type": "stream",
     "text": [
      "[1, 2, 5, 7, 9]\n"
     ]
    }
   ],
   "source": [
    "# Quick Sort\n",
    "def fs(a: list):\n",
    "    if (len(a) < 2):\n",
    "        return a\n",
    "    else:\n",
    "        return fs([i for i in a if i < a[0]]) + [a[0]] + fs([i for i in a if i > a[0]])\n",
    "a = [5,2,7,9,1]\n",
    "print(fs(a))"
   ]
  },
  {
   "cell_type": "code",
   "execution_count": 53,
   "metadata": {},
   "outputs": [
    {
     "name": "stdout",
     "output_type": "stream",
     "text": [
      "11\n"
     ]
    }
   ],
   "source": [
    "# Recursive sum\n",
    "import copy \n",
    "def s(a: list):\n",
    "    if (len(a) == 1):\n",
    "        return a[0]\n",
    "    else:\n",
    "        b = copy.deepcopy(a)\n",
    "        del a[0]\n",
    "        return b[0] + s(a)\n",
    "\n",
    "a = [1,4,6]\n",
    "print(s(a))"
   ]
  },
  {
   "cell_type": "code",
   "execution_count": 5,
   "metadata": {
    "ExecuteTime": {
     "end_time": "2022-12-11T17:11:50.740944Z",
     "start_time": "2022-12-11T17:11:50.733604Z"
    }
   },
   "outputs": [
    {
     "name": "stdout",
     "output_type": "stream",
     "text": [
      "1\n"
     ]
    }
   ],
   "source": [
    "# Checking anagrams\n",
    "q = 'accb'\n",
    "u = 'cbac'\n",
    "a1 = set(q)\n",
    "b1 = set(u)\n",
    "c = 0\n",
    "if (a1 != b1):\n",
    "    print(0)\n",
    "else:\n",
    "    a = {i:0 for i in list(a1)}\n",
    "    b = {i:0 for i in list(b1)}\n",
    "    for i in q:\n",
    "        a[i] += 1\n",
    "    for i in u:\n",
    "        b[i] += 1\n",
    "    for i in a1:\n",
    "        if (a[i] != b[i]):\n",
    "            c += 1\n",
    "    if (c > 0):\n",
    "        print(0)\n",
    "    else:\n",
    "        print(1)"
   ]
  },
  {
   "cell_type": "code",
   "execution_count": 13,
   "metadata": {
    "ExecuteTime": {
     "end_time": "2022-11-28T00:35:49.749462Z",
     "start_time": "2022-11-28T00:35:49.742709Z"
    }
   },
   "outputs": [
    {
     "name": "stdout",
     "output_type": "stream",
     "text": [
      "(())\n",
      "()()\n"
     ]
    }
   ],
   "source": [
    "# Generating sequences of parentheses\n",
    "def gen(n: int, counter_open: int, counter_close: int, ans: str):\n",
    "    if counter_open + counter_close == 2 * n:\n",
    "         print(ans)\n",
    "    if counter_open < n:\n",
    "         gen(n, counter_open + 1, counter_close, ans + '(')\n",
    "    if counter_open > counter_close:\n",
    "         gen(n, counter_open, counter_close + 1, ans + ')')\n",
    "gen(2,0,0,'')"
   ]
  },
  {
   "cell_type": "code",
   "execution_count": 6,
   "metadata": {
    "ExecuteTime": {
     "end_time": "2022-12-11T17:12:57.619735Z",
     "start_time": "2022-12-11T17:12:57.616710Z"
    }
   },
   "outputs": [],
   "source": [
    "# Reversing linked list\n",
    "def R(n1,b): \n",
    "    if(n1['n'] == None):\n",
    "        n1['n'] = b\n",
    "        return\n",
    "    else:\n",
    "        d = n1['n']\n",
    "        n1['n'] = b\n",
    "        R(d,n1)    "
   ]
  },
  {
   "cell_type": "code",
   "execution_count": 49,
   "metadata": {
    "ExecuteTime": {
     "end_time": "2020-04-07T14:50:28.602558Z",
     "start_time": "2020-04-07T14:50:28.595794Z"
    }
   },
   "outputs": [],
   "source": [
    "def search_place(a: list, x: int):\n",
    "    l = 0\n",
    "    h = len(a) - 1\n",
    "    m = (l + h) // 2\n",
    "    if x >= a[h]:\n",
    "        return h + 1\n",
    "    elif x <= a[l]:\n",
    "        return 0\n",
    "    while l < h:\n",
    "        if x >= a[m] and x <= a[m + 1]:\n",
    "            return m+1\n",
    "        elif x >= a[m]:\n",
    "            l = m\n",
    "            m = (l + h) // 2\n",
    "        else:\n",
    "            h = m\n",
    "            m = (l + h) // 2"
   ]
  },
  {
   "cell_type": "code",
   "execution_count": 60,
   "metadata": {
    "ExecuteTime": {
     "end_time": "2020-04-07T15:29:18.538021Z",
     "start_time": "2020-04-07T15:29:00.391177Z"
    },
    "scrolled": true
   },
   "outputs": [
    {
     "name": "stdout",
     "output_type": "stream",
     "text": [
      "10 5\n",
      "3\n",
      "1\n",
      "4\n",
      "1\n",
      "5\n",
      "9\n",
      "2\n",
      "6\n",
      "5\n",
      "3\n",
      "9\n",
      "6\n",
      "5\n",
      "5\n",
      "4\n"
     ]
    }
   ],
   "source": [
    "def search_place(a: list, x: int):\n",
    "    l = 0\n",
    "    h = len(a) - 1\n",
    "    m = (l + h) // 2\n",
    "    if x >= a[h]:\n",
    "        return h + 1\n",
    "    elif x <= a[l]:\n",
    "        return 0\n",
    "    while l < h:\n",
    "        if (x > a[m] and x < a[m + 1]) or x == a[m]:\n",
    "            return m+1\n",
    "        elif x == a[m+1]:\n",
    "            return m\n",
    "        elif x > a[m]:\n",
    "            l = m\n",
    "            m = (l + h) // 2\n",
    "        else:\n",
    "            h = m\n",
    "            m = (l + h) // 2\n",
    "a = input().split(' ')\n",
    "n = int(a[0])\n",
    "k = int(a[1])\n",
    "l = []\n",
    "b = int(input())\n",
    "l.append(b)\n",
    "\n",
    "for i in range(1,k):\n",
    "    b = int(input())\n",
    "    j = search_place(l, b)\n",
    "    l.insert(j, b)\n",
    "for i in range(k,n):\n",
    "    b = int(input())\n",
    "    if b <= l[0]:\n",
    "        continue\n",
    "    else:\n",
    "        j = search_place(l,b)\n",
    "        l.insert(j,b)\n",
    "        l.pop(0)\n",
    "for i in range(k):\n",
    "    print(l[k-1-i])\n"
   ]
  }
 ],
 "metadata": {
  "kernelspec": {
   "display_name": "Python 3",
   "language": "python",
   "name": "python3"
  },
  "language_info": {
   "codemirror_mode": {
    "name": "ipython",
    "version": 3
   },
   "file_extension": ".py",
   "mimetype": "text/x-python",
   "name": "python",
   "nbconvert_exporter": "python",
   "pygments_lexer": "ipython3",
   "version": "3.9.0"
  }
 },
 "nbformat": 4,
 "nbformat_minor": 2
}
